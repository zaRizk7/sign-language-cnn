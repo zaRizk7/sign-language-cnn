{
  "nbformat": 4,
  "nbformat_minor": 0,
  "metadata": {
    "colab": {
      "name": "sign-language-cnn",
      "provenance": [],
      "collapsed_sections": []
    },
    "kernelspec": {
      "name": "python3",
      "display_name": "Python 3"
    },
    "language_info": {
      "name": "python"
    },
    "accelerator": "GPU"
  },
  "cells": [
    {
      "cell_type": "code",
      "metadata": {
        "id": "r7hTrim1UGra"
      },
      "source": [
        "import tensorflow as tf\n",
        "import numpy as np\n",
        "import os\n",
        "from sklearn.metrics import classification_report"
      ],
      "execution_count": 1,
      "outputs": []
    },
    {
      "cell_type": "code",
      "metadata": {
        "id": "Um6ZNopukPrd"
      },
      "source": [
        "dataset_path = f'{os.getcwd()}/drive/MyDrive/dataset/dataset_bisindo'\n",
        "train_path = f'{dataset_path}/datatrain'\n",
        "test_path = f'{dataset_path}/datatest'"
      ],
      "execution_count": 2,
      "outputs": []
    },
    {
      "cell_type": "code",
      "metadata": {
        "colab": {
          "base_uri": "https://localhost:8080/"
        },
        "id": "GWYTX3kpU9L1",
        "outputId": "82d8fca1-e204-4670-f5eb-9fe62090b893"
      },
      "source": [
        "try:\n",
        "  device_name = tf.test.gpu_device_name().split(':')[1]\n",
        "except:\n",
        "  device_name = 'CPU'\n",
        "finally:\n",
        "  print(f'Using {device_name} for Tensorflow {tf.__version__}')"
      ],
      "execution_count": 3,
      "outputs": [
        {
          "output_type": "stream",
          "text": [
            "Using GPU for Tensorflow 2.4.1\n"
          ],
          "name": "stdout"
        }
      ]
    },
    {
      "cell_type": "code",
      "metadata": {
        "colab": {
          "base_uri": "https://localhost:8080/"
        },
        "id": "OyxPRggTAE0o",
        "outputId": "9ceeb8ec-1461-4231-dd53-bd2e5734b267"
      },
      "source": [
        "datagen = tf.keras.preprocessing.image.ImageDataGenerator(rescale=1/255)\n",
        "train_generator = datagen.flow_from_directory(\n",
        "    train_path,\n",
        "    target_size=(512, 512),\n",
        "    batch_size=32,\n",
        "    class_mode='sparse'\n",
        ")\n",
        "\n",
        "test_generator = datagen.flow_from_directory(\n",
        "    test_path,\n",
        "    target_size=(512, 512),\n",
        "    batch_size=32,\n",
        "    class_mode='sparse',\n",
        "    shuffle=False\n",
        ")"
      ],
      "execution_count": 4,
      "outputs": [
        {
          "output_type": "stream",
          "text": [
            "Found 1727 images belonging to 27 classes.\n",
            "Found 432 images belonging to 27 classes.\n"
          ],
          "name": "stdout"
        }
      ]
    },
    {
      "cell_type": "code",
      "metadata": {
        "id": "wIh440WKCB-M"
      },
      "source": [
        "class AccuracyThreshold(tf.keras.callbacks.Callback):\n",
        "    def __init__(self, threshold):\n",
        "        self.threshold = threshold\n",
        "          \n",
        "    def on_epoch_end(self, epoch, logs={}):\n",
        "        score = logs.get('accuracy')\n",
        "        if score > self.threshold:\n",
        "            print(f'\\nReached {score:.1%} accuracy, stopping training!')\n",
        "            self.model.stop_training = True"
      ],
      "execution_count": 5,
      "outputs": []
    },
    {
      "cell_type": "code",
      "metadata": {
        "id": "rkG2YkSYUIZF"
      },
      "source": [
        "def create_model():\n",
        "    model = tf.keras.models.Sequential()\n",
        "    model.add(tf.keras.layers.Conv2D(64, (3, 3), activation='relu', input_shape=(512, 512, 3)))\n",
        "    model.add(tf.keras.layers.MaxPooling2D(2, 2))\n",
        "    model.add(tf.keras.layers.Conv2D(64, (3, 3), activation='relu'))\n",
        "    model.add(tf.keras.layers.MaxPooling2D(2, 2))\n",
        "    model.add(tf.keras.layers.Flatten())\n",
        "    model.add(tf.keras.layers.Dense(256, activation='relu'))\n",
        "    model.add(tf.keras.layers.Dense(27, activation='softmax'))\n",
        "    model.compile(optimizer='adam', loss='sparse_categorical_crossentropy', metrics=['accuracy'])\n",
        "    return model"
      ],
      "execution_count": 6,
      "outputs": []
    },
    {
      "cell_type": "code",
      "metadata": {
        "colab": {
          "base_uri": "https://localhost:8080/"
        },
        "id": "IBpEl2EaUJ1H",
        "outputId": "0e8af0fa-6529-4e2b-9a83-6608213bacad"
      },
      "source": [
        "model = create_model()\n",
        "model.summary()"
      ],
      "execution_count": 7,
      "outputs": [
        {
          "output_type": "stream",
          "text": [
            "Model: \"sequential\"\n",
            "_________________________________________________________________\n",
            "Layer (type)                 Output Shape              Param #   \n",
            "=================================================================\n",
            "conv2d (Conv2D)              (None, 510, 510, 64)      1792      \n",
            "_________________________________________________________________\n",
            "max_pooling2d (MaxPooling2D) (None, 255, 255, 64)      0         \n",
            "_________________________________________________________________\n",
            "conv2d_1 (Conv2D)            (None, 253, 253, 64)      36928     \n",
            "_________________________________________________________________\n",
            "max_pooling2d_1 (MaxPooling2 (None, 126, 126, 64)      0         \n",
            "_________________________________________________________________\n",
            "flatten (Flatten)            (None, 1016064)           0         \n",
            "_________________________________________________________________\n",
            "dense (Dense)                (None, 256)               260112640 \n",
            "_________________________________________________________________\n",
            "dense_1 (Dense)              (None, 27)                6939      \n",
            "=================================================================\n",
            "Total params: 260,158,299\n",
            "Trainable params: 260,158,299\n",
            "Non-trainable params: 0\n",
            "_________________________________________________________________\n"
          ],
          "name": "stdout"
        }
      ]
    },
    {
      "cell_type": "code",
      "metadata": {
        "colab": {
          "base_uri": "https://localhost:8080/"
        },
        "id": "PAMVVpvXDAYj",
        "outputId": "13b3a6c2-2d07-4413-e075-e3a591ec4cc2"
      },
      "source": [
        "history = model.fit(\n",
        "    train_generator, \n",
        "    epochs=5,\n",
        "    verbose=1,\n",
        "    callbacks=[AccuracyThreshold(0.9901)]\n",
        ")"
      ],
      "execution_count": 8,
      "outputs": [
        {
          "output_type": "stream",
          "text": [
            "Epoch 1/5\n",
            "54/54 [==============================] - 108s 2s/step - loss: 11.8791 - accuracy: 0.2898\n",
            "Epoch 2/5\n",
            "54/54 [==============================] - 100s 2s/step - loss: 0.3711 - accuracy: 0.9280\n",
            "Epoch 3/5\n",
            "54/54 [==============================] - 100s 2s/step - loss: 0.0551 - accuracy: 0.9860\n",
            "Epoch 4/5\n",
            "54/54 [==============================] - 100s 2s/step - loss: 0.0330 - accuracy: 0.9920\n",
            "\n",
            "Reached 99.2% accuracy, stopping training!\n"
          ],
          "name": "stdout"
        }
      ]
    },
    {
      "cell_type": "code",
      "metadata": {
        "colab": {
          "base_uri": "https://localhost:8080/"
        },
        "id": "18Fw3mEFwaCd",
        "outputId": "6194aaba-8b94-49dc-d7f5-1be058e21a68"
      },
      "source": [
        "y_pred = np.argmax(model.predict(test_generator), axis=-1)\n",
        "y_true = test_generator.classes\n",
        "print(classification_report(y_true, y_pred, zero_division=0))"
      ],
      "execution_count": 9,
      "outputs": [
        {
          "output_type": "stream",
          "text": [
            "              precision    recall  f1-score   support\n",
            "\n",
            "           0       1.00      1.00      1.00        16\n",
            "           1       1.00      1.00      1.00        16\n",
            "           2       0.55      1.00      0.71        16\n",
            "           3       0.67      0.62      0.65        16\n",
            "           4       1.00      1.00      1.00        16\n",
            "           5       1.00      1.00      1.00        16\n",
            "           6       0.80      0.75      0.77        16\n",
            "           7       0.89      1.00      0.94        16\n",
            "           8       0.74      0.88      0.80        16\n",
            "           9       0.20      0.06      0.10        16\n",
            "          10       0.64      1.00      0.78        16\n",
            "          11       0.67      0.25      0.36        16\n",
            "          12       0.44      0.44      0.44        16\n",
            "          13       0.42      0.31      0.36        16\n",
            "          14       0.80      1.00      0.89        16\n",
            "          15       0.94      1.00      0.97        16\n",
            "          16       0.82      0.56      0.67        16\n",
            "          17       0.80      0.75      0.77        16\n",
            "          18       0.81      0.81      0.81        16\n",
            "          19       1.00      0.94      0.97        16\n",
            "          20       1.00      0.50      0.67        16\n",
            "          21       1.00      0.19      0.32        16\n",
            "          22       0.31      0.69      0.43        16\n",
            "          23       0.94      0.94      0.94        16\n",
            "          24       0.84      1.00      0.91        16\n",
            "          25       1.00      0.88      0.93        16\n",
            "          26       0.84      1.00      0.91        16\n",
            "\n",
            "    accuracy                           0.76       432\n",
            "   macro avg       0.78      0.76      0.74       432\n",
            "weighted avg       0.78      0.76      0.74       432\n",
            "\n"
          ],
          "name": "stdout"
        }
      ]
    }
  ]
}